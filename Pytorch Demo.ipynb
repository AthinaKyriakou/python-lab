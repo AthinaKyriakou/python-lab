{
 "cells": [
  {
   "cell_type": "code",
   "execution_count": 1,
   "metadata": {},
   "outputs": [],
   "source": [
    "import torch\n",
    "import numpy as np"
   ]
  },
  {
   "cell_type": "code",
   "execution_count": 2,
   "metadata": {},
   "outputs": [],
   "source": [
    "from sklearn.datasets import make_blobs"
   ]
  },
  {
   "cell_type": "code",
   "execution_count": 102,
   "metadata": {},
   "outputs": [],
   "source": [
    "X, y = make_blobs(n_samples=10000, n_features=2)"
   ]
  },
  {
   "cell_type": "code",
   "execution_count": 103,
   "metadata": {},
   "outputs": [
    {
     "name": "stdout",
     "output_type": "stream",
     "text": [
      "Populating the interactive namespace from numpy and matplotlib\n"
     ]
    }
   ],
   "source": [
    "%pylab inline"
   ]
  },
  {
   "cell_type": "code",
   "execution_count": 104,
   "metadata": {},
   "outputs": [
    {
     "data": {
      "text/plain": [
       "<matplotlib.collections.PathCollection at 0x7fb7be931898>"
      ]
     },
     "execution_count": 104,
     "metadata": {},
     "output_type": "execute_result"
    },
    {
     "data": {
      "image/png": "[encoded data removed]",
      "text/plain": [
       "<Figure size 432x288 with 1 Axes>"
      ]
     },
     "metadata": {
      "needs_background": "light"
     },
     "output_type": "display_data"
    }
   ],
   "source": [
    "import matplotlib.pyplot as plt\n",
    "\n",
    "plt.scatter(X[:, 0], X[:, 1], c=y)"
   ]
  },
  {
   "cell_type": "code",
   "execution_count": 105,
   "metadata": {},
   "outputs": [],
   "source": [
    "from torch.utils.data import Dataset"
   ]
  },
  {
   "cell_type": "code",
   "execution_count": 106,
   "metadata": {},
   "outputs": [],
   "source": [
    "class BlobData(Dataset):\n",
    "    def __init__(self, X, y, trans=None):\n",
    "        self.data = list(zip(X, y))\n",
    "        self.trans = trans\n",
    "        \n",
    "    def __len__(self):\n",
    "        return len(self.data)\n",
    "    \n",
    "    def __getitem__(self, idx):\n",
    "        if self.trans is not None:\n",
    "            return self.trans(self.data[idx])\n",
    "        else:\n",
    "            return self.data[idx]"
   ]
  },
  {
   "cell_type": "code",
   "execution_count": 107,
   "metadata": {},
   "outputs": [],
   "source": [
    "from torchvision import transforms"
   ]
  },
  {
   "cell_type": "code",
   "execution_count": 108,
   "metadata": {},
   "outputs": [],
   "source": [
    "class GaussianNoise(object):\n",
    "    def __init__(self, std=0.1, mean=0.0):\n",
    "        self.mean = mean\n",
    "        self.std = std\n",
    "        \n",
    "    def __call__(self, datum):\n",
    "        x, y = datum[0], datum[1]\n",
    "        return x + (self.std * np.random.randn(2) + self.mean), y"
   ]
  },
  {
   "cell_type": "code",
   "execution_count": 127,
   "metadata": {},
   "outputs": [],
   "source": [
    "class ToTensor(object):\n",
    "    def __init__(self):\n",
    "          pass\n",
    "        \n",
    "    def __call__(self, datum):\n",
    "        x, y = datum[0], datum[1]\n",
    "        t = torch.from_numpy(x).type(torch.FloatTensor) \n",
    "        t.requires_grad = True\n",
    "        return t, y"
   ]
  },
  {
   "cell_type": "code",
   "execution_count": 128,
   "metadata": {},
   "outputs": [],
   "source": [
    "my_transform = transforms.Compose([GaussianNoise(), ToTensor()])"
   ]
  },
  {
   "cell_type": "code",
   "execution_count": 129,
   "metadata": {},
   "outputs": [],
   "source": [
    "blob_dataset = BlobData(X, y, trans=my_transform)"
   ]
  },
  {
   "cell_type": "code",
   "execution_count": 130,
   "metadata": {},
   "outputs": [
    {
     "data": {
      "text/plain": [
       "10000"
      ]
     },
     "execution_count": 130,
     "metadata": {},
     "output_type": "execute_result"
    }
   ],
   "source": [
    "len(blob_dataset)"
   ]
  },
  {
   "cell_type": "code",
   "execution_count": 131,
   "metadata": {},
   "outputs": [
    {
     "data": {
      "text/plain": [
       "(tensor([-6.7628, -0.2773], requires_grad=True), 1)"
      ]
     },
     "execution_count": 131,
     "metadata": {},
     "output_type": "execute_result"
    }
   ],
   "source": [
    "blob_dataset[100]"
   ]
  },
  {
   "cell_type": "code",
   "execution_count": 132,
   "metadata": {},
   "outputs": [],
   "source": [
    "import torch.nn as nn\n",
    "import torch.nn.functional as F"
   ]
  },
  {
   "cell_type": "code",
   "execution_count": 133,
   "metadata": {},
   "outputs": [],
   "source": [
    "class LinearWActivation(nn.Module):\n",
    "    def __init__(self, in_features, out_features, activation='sigmoid'):\n",
    "        super(LinearWActivation, self).__init__()\n",
    "        self.f = nn.Linear(in_features, out_features)\n",
    "        if activation == 'sigmoid':\n",
    "            self.a = nn.Sigmoid()\n",
    "        else:\n",
    "            self.a = nn.ReLU()\n",
    "            \n",
    "    def forward(self, x):\n",
    "        return self.a(self.f(x))\n",
    "\n",
    "class MyFunnyNet(nn.Module):\n",
    "    def __init__(self, layers, n_features, n_classes, activation='sigmoid'):\n",
    "        super(MyFunnyNet, self).__init__()\n",
    "        layers_in = [n_features] + layers \n",
    "        layers_out = layers + [n_classes]\n",
    "        self.f = nn.Sequential(*[\n",
    "            LinearWActivation(in_feats, out_feats, activation=activation)\n",
    "            for in_feats, out_feats in zip(layers_in, layers_out)\n",
    "        ])\n",
    "                \n",
    "    def forward(self, x):\n",
    "        y = self.f(x)\n",
    "        return y"
   ]
  },
  {
   "cell_type": "code",
   "execution_count": 178,
   "metadata": {},
   "outputs": [],
   "source": [
    "import torch.optim as optim\n",
    "\n",
    "EPOCHS = 30\n",
    "BATCH_SZ = 32\n",
    "\n",
    "criterion = nn.CrossEntropyLoss()\n",
    "net = MyFunnyNet([100, 100], X.shape[1], len(set(y)))"
   ]
  },
  {
   "cell_type": "code",
   "execution_count": 179,
   "metadata": {},
   "outputs": [],
   "source": [
    "optimizer = optim.SGD(list(net.parameters()), lr=1e-2)\n"
   ]
  },
  {
   "cell_type": "code",
   "execution_count": 180,
   "metadata": {},
   "outputs": [],
   "source": [
    "from sklearn.model_selection import train_test_split"
   ]
  },
  {
   "cell_type": "code",
   "execution_count": 181,
   "metadata": {},
   "outputs": [],
   "source": [
    "X_train, X_test, y_train, y_test = train_test_split(X, y, test_size=0.33)"
   ]
  },
  {
   "cell_type": "code",
   "execution_count": 182,
   "metadata": {},
   "outputs": [],
   "source": [
    "train_data = BlobData(X_train, y_train, trans=my_transform)\n",
    "test_data = BlobData(X_test, y_test, trans=my_transform)"
   ]
  },
  {
   "cell_type": "code",
   "execution_count": 183,
   "metadata": {},
   "outputs": [],
   "source": [
    "from torch.utils.data import DataLoader"
   ]
  },
  {
   "cell_type": "code",
   "execution_count": 184,
   "metadata": {},
   "outputs": [],
   "source": [
    "train_dl = DataLoader(train_data, batch_size=BATCH_SZ)\n",
    "test_dl = DataLoader(test_data, batch_size=BATCH_SZ)"
   ]
  },
  {
   "cell_type": "code",
   "execution_count": 186,
   "metadata": {
    "scrolled": true
   },
   "outputs": [
    {
     "name": "stdout",
     "output_type": "stream",
     "text": [
      "Epoch: 0 \t Batch: 0 \t Loss 0.5692673921585083\n",
      "Epoch: 0 \t Batch: 100 \t Loss 0.5708099804302253\n",
      "Epoch: 0 \t Batch: 200 \t Loss 0.5706824746297959\n",
      "Epoch: 1 \t Batch: 0 \t Loss 0.5683896541595459\n",
      "Epoch: 1 \t Batch: 100 \t Loss 0.569780965252678\n",
      "Epoch: 1 \t Batch: 200 \t Loss 0.5696585299956858\n",
      "Epoch: 2 \t Batch: 0 \t Loss 0.5675503015518188\n",
      "Epoch: 2 \t Batch: 100 \t Loss 0.5688527551027808\n",
      "Epoch: 2 \t Batch: 200 \t Loss 0.5687435207082264\n",
      "Epoch: 3 \t Batch: 0 \t Loss 0.566669225692749\n",
      "Epoch: 3 \t Batch: 100 \t Loss 0.5679839637019847\n",
      "Epoch: 3 \t Batch: 200 \t Loss 0.5679031177539731\n",
      "Epoch: 4 \t Batch: 0 \t Loss 0.5660101175308228\n",
      "Epoch: 4 \t Batch: 100 \t Loss 0.5672055866458628\n",
      "Epoch: 4 \t Batch: 200 \t Loss 0.5671442613672855\n",
      "Epoch: 5 \t Batch: 0 \t Loss 0.5654624700546265\n",
      "Epoch: 5 \t Batch: 100 \t Loss 0.5664927800102989\n",
      "Epoch: 5 \t Batch: 200 \t Loss 0.5664265639153286\n",
      "Epoch: 6 \t Batch: 0 \t Loss 0.5648099780082703\n",
      "Epoch: 6 \t Batch: 100 \t Loss 0.5658371507531346\n",
      "Epoch: 6 \t Batch: 200 \t Loss 0.565770448440343\n",
      "Epoch: 7 \t Batch: 0 \t Loss 0.5641752481460571\n",
      "Epoch: 7 \t Batch: 100 \t Loss 0.565242058569842\n",
      "Epoch: 7 \t Batch: 200 \t Loss 0.5651924153465536\n",
      "Epoch: 8 \t Batch: 0 \t Loss 0.5636131167411804\n",
      "Epoch: 8 \t Batch: 100 \t Loss 0.5646584016261714\n",
      "Epoch: 8 \t Batch: 200 \t Loss 0.5646267797223371\n",
      "Epoch: 9 \t Batch: 0 \t Loss 0.5631817579269409\n",
      "Epoch: 9 \t Batch: 100 \t Loss 0.564127235129328\n",
      "Epoch: 9 \t Batch: 200 \t Loss 0.5641023599686315\n",
      "Epoch: 10 \t Batch: 0 \t Loss 0.5627893805503845\n",
      "Epoch: 10 \t Batch: 100 \t Loss 0.5636626570531638\n",
      "Epoch: 10 \t Batch: 200 \t Loss 0.563632279782746\n",
      "Epoch: 11 \t Batch: 0 \t Loss 0.5623102784156799\n",
      "Epoch: 11 \t Batch: 100 \t Loss 0.5632029405914911\n",
      "Epoch: 11 \t Batch: 200 \t Loss 0.5631866532178661\n",
      "Epoch: 12 \t Batch: 0 \t Loss 0.5618410706520081\n",
      "Epoch: 12 \t Batch: 100 \t Loss 0.5627729774701713\n",
      "Epoch: 12 \t Batch: 200 \t Loss 0.5627654022838345\n",
      "Epoch: 13 \t Batch: 0 \t Loss 0.561597466468811\n",
      "Epoch: 13 \t Batch: 100 \t Loss 0.5623833543003196\n",
      "Epoch: 13 \t Batch: 200 \t Loss 0.5623733386471497\n",
      "Epoch: 14 \t Batch: 0 \t Loss 0.5610993504524231\n",
      "Epoch: 14 \t Batch: 100 \t Loss 0.5620013510826791\n",
      "Epoch: 14 \t Batch: 200 \t Loss 0.562002023357657\n",
      "Epoch: 15 \t Batch: 0 \t Loss 0.5608211755752563\n",
      "Epoch: 15 \t Batch: 100 \t Loss 0.561662219538547\n",
      "Epoch: 15 \t Batch: 200 \t Loss 0.5616598615598916\n",
      "Epoch: 16 \t Batch: 0 \t Loss 0.5606213808059692\n",
      "Epoch: 16 \t Batch: 100 \t Loss 0.5613378280460244\n",
      "Epoch: 16 \t Batch: 200 \t Loss 0.5613326872166117\n",
      "Epoch: 17 \t Batch: 0 \t Loss 0.5602949857711792\n",
      "Epoch: 17 \t Batch: 100 \t Loss 0.561023491443974\n",
      "Epoch: 17 \t Batch: 200 \t Loss 0.5610235300823231\n",
      "Epoch: 18 \t Batch: 0 \t Loss 0.560080885887146\n",
      "Epoch: 18 \t Batch: 100 \t Loss 0.5607405694404451\n",
      "Epoch: 18 \t Batch: 200 \t Loss 0.5607336477853766\n",
      "Epoch: 19 \t Batch: 0 \t Loss 0.5596915483474731\n",
      "Epoch: 19 \t Batch: 100 \t Loss 0.5604644931188905\n",
      "Epoch: 19 \t Batch: 200 \t Loss 0.5604617133069394\n",
      "Epoch: 20 \t Batch: 0 \t Loss 0.5594885945320129\n",
      "Epoch: 20 \t Batch: 100 \t Loss 0.5601978591173002\n",
      "Epoch: 20 \t Batch: 200 \t Loss 0.5602037295773254\n",
      "Epoch: 21 \t Batch: 0 \t Loss 0.5592077374458313\n",
      "Epoch: 21 \t Batch: 100 \t Loss 0.5599473885970541\n",
      "Epoch: 21 \t Batch: 200 \t Loss 0.559954479559144\n",
      "Epoch: 22 \t Batch: 0 \t Loss 0.5590993762016296\n",
      "Epoch: 22 \t Batch: 100 \t Loss 0.5597253884419356\n",
      "Epoch: 22 \t Batch: 200 \t Loss 0.5597311661611148\n",
      "Epoch: 23 \t Batch: 0 \t Loss 0.5588633418083191\n",
      "Epoch: 23 \t Batch: 100 \t Loss 0.5594935694543441\n",
      "Epoch: 23 \t Batch: 200 \t Loss 0.5594997056088045\n",
      "Epoch: 24 \t Batch: 0 \t Loss 0.5587171912193298\n",
      "Epoch: 24 \t Batch: 100 \t Loss 0.5592835161945607\n",
      "Epoch: 24 \t Batch: 200 \t Loss 0.5592958307384852\n",
      "Epoch: 25 \t Batch: 0 \t Loss 0.5585055947303772\n",
      "Epoch: 25 \t Batch: 100 \t Loss 0.5590853573072074\n",
      "Epoch: 25 \t Batch: 200 \t Loss 0.5591019166642753\n",
      "Epoch: 26 \t Batch: 0 \t Loss 0.5582917332649231\n",
      "Epoch: 26 \t Batch: 100 \t Loss 0.5588939691534137\n",
      "Epoch: 26 \t Batch: 200 \t Loss 0.5589033151740459\n",
      "Epoch: 27 \t Batch: 0 \t Loss 0.5581094622612\n",
      "Epoch: 27 \t Batch: 100 \t Loss 0.5587010401310307\n",
      "Epoch: 27 \t Batch: 200 \t Loss 0.5587126333915179\n",
      "Epoch: 28 \t Batch: 0 \t Loss 0.557880163192749\n",
      "Epoch: 28 \t Batch: 100 \t Loss 0.5585223943880289\n",
      "Epoch: 28 \t Batch: 200 \t Loss 0.5585389733314514\n",
      "Epoch: 29 \t Batch: 0 \t Loss 0.5577965974807739\n",
      "Epoch: 29 \t Batch: 100 \t Loss 0.5583660313398531\n",
      "Epoch: 29 \t Batch: 200 \t Loss 0.5583773608231426\n"
     ]
    }
   ],
   "source": [
    "net.train()\n",
    "for epoch in range(EPOCHS):\n",
    "    running_average_loss = 0\n",
    "    for i, data in enumerate(train_dl):\n",
    "        X_batch, y_batch = data\n",
    "        optimizer.zero_grad()\n",
    "        out = net(X_batch)\n",
    "        loss = criterion(out, y_batch)\n",
    "        loss.backward()\n",
    "        optimizer.step()\n",
    "        \n",
    "        running_average_loss += loss.detach().item()\n",
    "        if i % 100 == 0:\n",
    "            print(\"Epoch: {} \\t Batch: {} \\t Loss {}\".format(epoch, i, float(running_average_loss) / (i + 1)))"
   ]
  },
  {
   "cell_type": "code",
   "execution_count": 202,
   "metadata": {},
   "outputs": [
    {
     "name": "stdout",
     "output_type": "stream",
     "text": [
      "0.9915865384615384\n"
     ]
    }
   ],
   "source": [
    "net.eval()\n",
    "acc = 0\n",
    "n_samples = 0\n",
    "with torch.no_grad():\n",
    "    for i, data in enumerate(test_dl):\n",
    "        X_batch, y_batch = data\n",
    "        out = net(X_batch)\n",
    "        val, y_pred = out.max(1)\n",
    "        acc += (y_batch == y_pred).sum().detach().item()\n",
    "        n_samples += 32\n",
    "\n",
    "print(acc / n_samples)"
   ]
  }
 ],
 "metadata": {
  "kernelspec": {
   "display_name": "Python 3",
   "language": "python",
   "name": "python3"
  },
  "language_info": {
   "codemirror_mode": {
    "name": "ipython",
    "version": 3
   },
   "file_extension": ".py",
   "mimetype": "text/x-python",
   "name": "python",
   "nbconvert_exporter": "python",
   "pygments_lexer": "ipython3",
   "version": "3.7.0"
  }
 },
 "nbformat": 4,
 "nbformat_minor": 2
}
