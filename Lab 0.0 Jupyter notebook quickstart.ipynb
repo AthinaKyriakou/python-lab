{
 "cells": [
  {
   "cell_type": "markdown",
   "metadata": {},
   "source": [
    "# Jupyter notebook quickstart"
   ]
  },
  {
   "cell_type": "raw",
   "metadata": {},
   "source": [
    "Jupyter notebook is an interactive python console.\n",
    "\n",
    "It allows for python execution in the browser and \n",
    "easy inspection of the code results and the plots\n",
    "produced.\n",
    "\n",
    "Furthermore it allows to write plain text along\n",
    "with the code that makes it easy to document the code\n",
    "and explain the math / intuition behind it.\n",
    "\n",
    "This is why it is widely used for exploratory data\n",
    "analysis and for presentations like this one"
   ]
  },
  {
   "cell_type": "raw",
   "metadata": {},
   "source": [
    "1. Use <Enter> to enter a shell in edit mode\n",
    "2. Use <Esc> to leave edit mode\n",
    "3. Use <Shift>+<Enter> to execute a shell and move to the next\n",
    "4. Use <Alt>+<Enter> to execute a shell and insert another below"
   ]
  },
  {
   "cell_type": "markdown",
   "metadata": {},
   "source": [
    "%timeit Measures how long a statement takes to execute"
   ]
  },
  {
   "cell_type": "code",
   "execution_count": 1,
   "metadata": {},
   "outputs": [
    {
     "name": "stdout",
     "output_type": "stream",
     "text": [
      "1.1 ms ± 51.8 µs per loop (mean ± std. dev. of 7 runs, 1000 loops each)\n"
     ]
    }
   ],
   "source": [
    "import random\n",
    "L = [random.random() for i in range(100000)]\n",
    "%timeit L.sort()"
   ]
  },
  {
   "cell_type": "markdown",
   "metadata": {},
   "source": [
    "%ls Lists the contents of the current directory"
   ]
  },
  {
   "cell_type": "code",
   "execution_count": 2,
   "metadata": {},
   "outputs": [
    {
     "name": "stdout",
     "output_type": "stream",
     "text": [
      "\u001b[0m\u001b[01;34mcs228-material\u001b[0m/                            Lab 0.1 Python 101.ipynb\r\n",
      "Lab 0.0 Jupyter notebook quickstart.ipynb  Lab 0.2 Numpy Basics.ipynb\r\n"
     ]
    }
   ],
   "source": [
    "%ls"
   ]
  },
  {
   "cell_type": "markdown",
   "metadata": {},
   "source": [
    "%pwd shows the current working directory"
   ]
  },
  {
   "cell_type": "code",
   "execution_count": 3,
   "metadata": {},
   "outputs": [
    {
     "data": {
      "text/plain": [
       "'/home/george/projects/lab1_slp_patreco'"
      ]
     },
     "execution_count": 3,
     "metadata": {},
     "output_type": "execute_result"
    }
   ],
   "source": [
    "%pwd"
   ]
  },
  {
   "cell_type": "markdown",
   "metadata": {},
   "source": [
    "? shows the documentation of a function / class / module"
   ]
  },
  {
   "cell_type": "code",
   "execution_count": 4,
   "metadata": {},
   "outputs": [],
   "source": [
    "import os\n",
    "\n",
    "os?"
   ]
  },
  {
   "cell_type": "markdown",
   "metadata": {},
   "source": [
    "?? shows extended documentation and code if available"
   ]
  },
  {
   "cell_type": "code",
   "execution_count": null,
   "metadata": {},
   "outputs": [],
   "source": [
    "os??"
   ]
  },
  {
   "cell_type": "markdown",
   "metadata": {},
   "source": [
    "## Further reading\n",
    "\n",
    "1. https://www.datacamp.com/community/tutorials/tutorial-jupyter-notebook  \n",
    "2. https://jupyter-notebook-beginner-guide.readthedocs.io/en/latest/"
   ]
  }
 ],
 "metadata": {
  "kernelspec": {
   "display_name": "Python 3",
   "language": "python",
   "name": "python3"
  },
  "language_info": {
   "codemirror_mode": {
    "name": "ipython",
    "version": 3
   },
   "file_extension": ".py",
   "mimetype": "text/x-python",
   "name": "python",
   "nbconvert_exporter": "python",
   "pygments_lexer": "ipython3",
   "version": "3.6.4"
  }
 },
 "nbformat": 4,
 "nbformat_minor": 2
}
